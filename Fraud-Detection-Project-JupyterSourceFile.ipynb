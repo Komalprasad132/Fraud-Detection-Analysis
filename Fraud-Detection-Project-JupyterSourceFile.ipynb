{
  "metadata": {
    "kernelspec": {
      "language": "python",
      "display_name": "Python 3",
      "name": "python3"
    },
    "language_info": {
      "name": "python",
      "version": "3.10.13",
      "mimetype": "text/x-python",
      "codemirror_mode": {
        "name": "ipython",
        "version": 3
      },
      "pygments_lexer": "ipython3",
      "nbconvert_exporter": "python",
      "file_extension": ".py"
    },
    "kaggle": {
      "accelerator": "none",
      "dataSources": [
        {
          "sourceId": 8921523,
          "sourceType": "datasetVersion",
          "datasetId": 5365972
        }
      ],
      "dockerImageVersionId": 30732,
      "isInternetEnabled": true,
      "language": "python",
      "sourceType": "notebook",
      "isGpuEnabled": false
    },
    "colab": {
      "name": "notebookce34bdf9c0",
      "provenance": []
    }
  },
  "nbformat_minor": 0,
  "nbformat": 4,
  "cells": [
    {
      "cell_type": "markdown",
      "source": [
        "#### Loading Libraries"
      ],
      "metadata": {
        "id": "kNm2fd-IebAH"
      }
    },
    {
      "cell_type": "code",
      "source": [
        "import pandas as pd\n",
        "import numpy as np\n",
        "import matplotlib.pyplot as plt\n",
        "import seaborn as sns\n",
        "from scipy import stats"
      ],
      "metadata": {
        "execution": {
          "iopub.status.busy": "2024-07-10T15:52:57.016576Z",
          "iopub.execute_input": "2024-07-10T15:52:57.016998Z",
          "iopub.status.idle": "2024-07-10T15:52:58.26943Z",
          "shell.execute_reply.started": "2024-07-10T15:52:57.016961Z",
          "shell.execute_reply": "2024-07-10T15:52:58.267931Z"
        },
        "trusted": true,
        "id": "DkepKCbDebAS"
      },
      "execution_count": 3,
      "outputs": []
    },
    {
      "cell_type": "code",
      "source": [
        "# Read CSV\n",
        "df= pd.read_csv(\"/content/Fraud.csv\")"
      ],
      "metadata": {
        "execution": {
          "iopub.status.busy": "2024-07-10T15:53:35.231617Z",
          "iopub.execute_input": "2024-07-10T15:53:35.23207Z",
          "iopub.status.idle": "2024-07-10T15:54:04.511423Z",
          "shell.execute_reply.started": "2024-07-10T15:53:35.232035Z",
          "shell.execute_reply": "2024-07-10T15:54:04.510064Z"
        },
        "trusted": true,
        "id": "uRKYiBftebAS"
      },
      "execution_count": 4,
      "outputs": []
    },
    {
      "cell_type": "code",
      "source": [
        "df.head()"
      ],
      "metadata": {
        "execution": {
          "iopub.status.busy": "2024-07-10T15:54:04.513628Z",
          "iopub.execute_input": "2024-07-10T15:54:04.51401Z",
          "iopub.status.idle": "2024-07-10T15:54:04.552676Z",
          "shell.execute_reply.started": "2024-07-10T15:54:04.513978Z",
          "shell.execute_reply": "2024-07-10T15:54:04.551218Z"
        },
        "trusted": true,
        "id": "HqxidnLCebAS",
        "outputId": "5904ed65-3f4e-4db6-b48c-dfa6dc31032c",
        "colab": {
          "base_uri": "https://localhost:8080/",
          "height": 206
        }
      },
      "execution_count": 5,
      "outputs": [
        {
          "output_type": "execute_result",
          "data": {
            "text/plain": [
              "   step      type    amount     nameOrig  oldbalanceOrg  newbalanceOrig  \\\n",
              "0     1   PAYMENT   9839.64  C1231006815       170136.0       160296.36   \n",
              "1     1   PAYMENT   1864.28  C1666544295        21249.0        19384.72   \n",
              "2     1  TRANSFER    181.00  C1305486145          181.0            0.00   \n",
              "3     1  CASH_OUT    181.00   C840083671          181.0            0.00   \n",
              "4     1   PAYMENT  11668.14  C2048537720        41554.0        29885.86   \n",
              "\n",
              "      nameDest  oldbalanceDest  newbalanceDest  isFraud  isFlaggedFraud  \n",
              "0  M1979787155             0.0             0.0      0.0             0.0  \n",
              "1  M2044282225             0.0             0.0      0.0             0.0  \n",
              "2   C553264065             0.0             0.0      1.0             0.0  \n",
              "3    C38997010         21182.0             0.0      1.0             0.0  \n",
              "4  M1230701703             0.0             0.0      0.0             0.0  "
            ],
            "text/html": [
              "\n",
              "  <div id=\"df-c7ec2377-ca49-41af-bf02-56c8431ebf6a\" class=\"colab-df-container\">\n",
              "    <div>\n",
              "<style scoped>\n",
              "    .dataframe tbody tr th:only-of-type {\n",
              "        vertical-align: middle;\n",
              "    }\n",
              "\n",
              "    .dataframe tbody tr th {\n",
              "        vertical-align: top;\n",
              "    }\n",
              "\n",
              "    .dataframe thead th {\n",
              "        text-align: right;\n",
              "    }\n",
              "</style>\n",
              "<table border=\"1\" class=\"dataframe\">\n",
              "  <thead>\n",
              "    <tr style=\"text-align: right;\">\n",
              "      <th></th>\n",
              "      <th>step</th>\n",
              "      <th>type</th>\n",
              "      <th>amount</th>\n",
              "      <th>nameOrig</th>\n",
              "      <th>oldbalanceOrg</th>\n",
              "      <th>newbalanceOrig</th>\n",
              "      <th>nameDest</th>\n",
              "      <th>oldbalanceDest</th>\n",
              "      <th>newbalanceDest</th>\n",
              "      <th>isFraud</th>\n",
              "      <th>isFlaggedFraud</th>\n",
              "    </tr>\n",
              "  </thead>\n",
              "  <tbody>\n",
              "    <tr>\n",
              "      <th>0</th>\n",
              "      <td>1</td>\n",
              "      <td>PAYMENT</td>\n",
              "      <td>9839.64</td>\n",
              "      <td>C1231006815</td>\n",
              "      <td>170136.0</td>\n",
              "      <td>160296.36</td>\n",
              "      <td>M1979787155</td>\n",
              "      <td>0.0</td>\n",
              "      <td>0.0</td>\n",
              "      <td>0.0</td>\n",
              "      <td>0.0</td>\n",
              "    </tr>\n",
              "    <tr>\n",
              "      <th>1</th>\n",
              "      <td>1</td>\n",
              "      <td>PAYMENT</td>\n",
              "      <td>1864.28</td>\n",
              "      <td>C1666544295</td>\n",
              "      <td>21249.0</td>\n",
              "      <td>19384.72</td>\n",
              "      <td>M2044282225</td>\n",
              "      <td>0.0</td>\n",
              "      <td>0.0</td>\n",
              "      <td>0.0</td>\n",
              "      <td>0.0</td>\n",
              "    </tr>\n",
              "    <tr>\n",
              "      <th>2</th>\n",
              "      <td>1</td>\n",
              "      <td>TRANSFER</td>\n",
              "      <td>181.00</td>\n",
              "      <td>C1305486145</td>\n",
              "      <td>181.0</td>\n",
              "      <td>0.00</td>\n",
              "      <td>C553264065</td>\n",
              "      <td>0.0</td>\n",
              "      <td>0.0</td>\n",
              "      <td>1.0</td>\n",
              "      <td>0.0</td>\n",
              "    </tr>\n",
              "    <tr>\n",
              "      <th>3</th>\n",
              "      <td>1</td>\n",
              "      <td>CASH_OUT</td>\n",
              "      <td>181.00</td>\n",
              "      <td>C840083671</td>\n",
              "      <td>181.0</td>\n",
              "      <td>0.00</td>\n",
              "      <td>C38997010</td>\n",
              "      <td>21182.0</td>\n",
              "      <td>0.0</td>\n",
              "      <td>1.0</td>\n",
              "      <td>0.0</td>\n",
              "    </tr>\n",
              "    <tr>\n",
              "      <th>4</th>\n",
              "      <td>1</td>\n",
              "      <td>PAYMENT</td>\n",
              "      <td>11668.14</td>\n",
              "      <td>C2048537720</td>\n",
              "      <td>41554.0</td>\n",
              "      <td>29885.86</td>\n",
              "      <td>M1230701703</td>\n",
              "      <td>0.0</td>\n",
              "      <td>0.0</td>\n",
              "      <td>0.0</td>\n",
              "      <td>0.0</td>\n",
              "    </tr>\n",
              "  </tbody>\n",
              "</table>\n",
              "</div>\n",
              "    <div class=\"colab-df-buttons\">\n",
              "\n",
              "  <div class=\"colab-df-container\">\n",
              "    <button class=\"colab-df-convert\" onclick=\"convertToInteractive('df-c7ec2377-ca49-41af-bf02-56c8431ebf6a')\"\n",
              "            title=\"Convert this dataframe to an interactive table.\"\n",
              "            style=\"display:none;\">\n",
              "\n",
              "  <svg xmlns=\"http://www.w3.org/2000/svg\" height=\"24px\" viewBox=\"0 -960 960 960\">\n",
              "    <path d=\"M120-120v-720h720v720H120Zm60-500h600v-160H180v160Zm220 220h160v-160H400v160Zm0 220h160v-160H400v160ZM180-400h160v-160H180v160Zm440 0h160v-160H620v160ZM180-180h160v-160H180v160Zm440 0h160v-160H620v160Z\"/>\n",
              "  </svg>\n",
              "    </button>\n",
              "\n",
              "  <style>\n",
              "    .colab-df-container {\n",
              "      display:flex;\n",
              "      gap: 12px;\n",
              "    }\n",
              "\n",
              "    .colab-df-convert {\n",
              "      background-color: #E8F0FE;\n",
              "      border: none;\n",
              "      border-radius: 50%;\n",
              "      cursor: pointer;\n",
              "      display: none;\n",
              "      fill: #1967D2;\n",
              "      height: 32px;\n",
              "      padding: 0 0 0 0;\n",
              "      width: 32px;\n",
              "    }\n",
              "\n",
              "    .colab-df-convert:hover {\n",
              "      background-color: #E2EBFA;\n",
              "      box-shadow: 0px 1px 2px rgba(60, 64, 67, 0.3), 0px 1px 3px 1px rgba(60, 64, 67, 0.15);\n",
              "      fill: #174EA6;\n",
              "    }\n",
              "\n",
              "    .colab-df-buttons div {\n",
              "      margin-bottom: 4px;\n",
              "    }\n",
              "\n",
              "    [theme=dark] .colab-df-convert {\n",
              "      background-color: #3B4455;\n",
              "      fill: #D2E3FC;\n",
              "    }\n",
              "\n",
              "    [theme=dark] .colab-df-convert:hover {\n",
              "      background-color: #434B5C;\n",
              "      box-shadow: 0px 1px 3px 1px rgba(0, 0, 0, 0.15);\n",
              "      filter: drop-shadow(0px 1px 2px rgba(0, 0, 0, 0.3));\n",
              "      fill: #FFFFFF;\n",
              "    }\n",
              "  </style>\n",
              "\n",
              "    <script>\n",
              "      const buttonEl =\n",
              "        document.querySelector('#df-c7ec2377-ca49-41af-bf02-56c8431ebf6a button.colab-df-convert');\n",
              "      buttonEl.style.display =\n",
              "        google.colab.kernel.accessAllowed ? 'block' : 'none';\n",
              "\n",
              "      async function convertToInteractive(key) {\n",
              "        const element = document.querySelector('#df-c7ec2377-ca49-41af-bf02-56c8431ebf6a');\n",
              "        const dataTable =\n",
              "          await google.colab.kernel.invokeFunction('convertToInteractive',\n",
              "                                                    [key], {});\n",
              "        if (!dataTable) return;\n",
              "\n",
              "        const docLinkHtml = 'Like what you see? Visit the ' +\n",
              "          '<a target=\"_blank\" href=https://colab.research.google.com/notebooks/data_table.ipynb>data table notebook</a>'\n",
              "          + ' to learn more about interactive tables.';\n",
              "        element.innerHTML = '';\n",
              "        dataTable['output_type'] = 'display_data';\n",
              "        await google.colab.output.renderOutput(dataTable, element);\n",
              "        const docLink = document.createElement('div');\n",
              "        docLink.innerHTML = docLinkHtml;\n",
              "        element.appendChild(docLink);\n",
              "      }\n",
              "    </script>\n",
              "  </div>\n",
              "\n",
              "\n",
              "<div id=\"df-f0fc2046-ce5c-475c-b611-f02b8b122e15\">\n",
              "  <button class=\"colab-df-quickchart\" onclick=\"quickchart('df-f0fc2046-ce5c-475c-b611-f02b8b122e15')\"\n",
              "            title=\"Suggest charts\"\n",
              "            style=\"display:none;\">\n",
              "\n",
              "<svg xmlns=\"http://www.w3.org/2000/svg\" height=\"24px\"viewBox=\"0 0 24 24\"\n",
              "     width=\"24px\">\n",
              "    <g>\n",
              "        <path d=\"M19 3H5c-1.1 0-2 .9-2 2v14c0 1.1.9 2 2 2h14c1.1 0 2-.9 2-2V5c0-1.1-.9-2-2-2zM9 17H7v-7h2v7zm4 0h-2V7h2v10zm4 0h-2v-4h2v4z\"/>\n",
              "    </g>\n",
              "</svg>\n",
              "  </button>\n",
              "\n",
              "<style>\n",
              "  .colab-df-quickchart {\n",
              "      --bg-color: #E8F0FE;\n",
              "      --fill-color: #1967D2;\n",
              "      --hover-bg-color: #E2EBFA;\n",
              "      --hover-fill-color: #174EA6;\n",
              "      --disabled-fill-color: #AAA;\n",
              "      --disabled-bg-color: #DDD;\n",
              "  }\n",
              "\n",
              "  [theme=dark] .colab-df-quickchart {\n",
              "      --bg-color: #3B4455;\n",
              "      --fill-color: #D2E3FC;\n",
              "      --hover-bg-color: #434B5C;\n",
              "      --hover-fill-color: #FFFFFF;\n",
              "      --disabled-bg-color: #3B4455;\n",
              "      --disabled-fill-color: #666;\n",
              "  }\n",
              "\n",
              "  .colab-df-quickchart {\n",
              "    background-color: var(--bg-color);\n",
              "    border: none;\n",
              "    border-radius: 50%;\n",
              "    cursor: pointer;\n",
              "    display: none;\n",
              "    fill: var(--fill-color);\n",
              "    height: 32px;\n",
              "    padding: 0;\n",
              "    width: 32px;\n",
              "  }\n",
              "\n",
              "  .colab-df-quickchart:hover {\n",
              "    background-color: var(--hover-bg-color);\n",
              "    box-shadow: 0 1px 2px rgba(60, 64, 67, 0.3), 0 1px 3px 1px rgba(60, 64, 67, 0.15);\n",
              "    fill: var(--button-hover-fill-color);\n",
              "  }\n",
              "\n",
              "  .colab-df-quickchart-complete:disabled,\n",
              "  .colab-df-quickchart-complete:disabled:hover {\n",
              "    background-color: var(--disabled-bg-color);\n",
              "    fill: var(--disabled-fill-color);\n",
              "    box-shadow: none;\n",
              "  }\n",
              "\n",
              "  .colab-df-spinner {\n",
              "    border: 2px solid var(--fill-color);\n",
              "    border-color: transparent;\n",
              "    border-bottom-color: var(--fill-color);\n",
              "    animation:\n",
              "      spin 1s steps(1) infinite;\n",
              "  }\n",
              "\n",
              "  @keyframes spin {\n",
              "    0% {\n",
              "      border-color: transparent;\n",
              "      border-bottom-color: var(--fill-color);\n",
              "      border-left-color: var(--fill-color);\n",
              "    }\n",
              "    20% {\n",
              "      border-color: transparent;\n",
              "      border-left-color: var(--fill-color);\n",
              "      border-top-color: var(--fill-color);\n",
              "    }\n",
              "    30% {\n",
              "      border-color: transparent;\n",
              "      border-left-color: var(--fill-color);\n",
              "      border-top-color: var(--fill-color);\n",
              "      border-right-color: var(--fill-color);\n",
              "    }\n",
              "    40% {\n",
              "      border-color: transparent;\n",
              "      border-right-color: var(--fill-color);\n",
              "      border-top-color: var(--fill-color);\n",
              "    }\n",
              "    60% {\n",
              "      border-color: transparent;\n",
              "      border-right-color: var(--fill-color);\n",
              "    }\n",
              "    80% {\n",
              "      border-color: transparent;\n",
              "      border-right-color: var(--fill-color);\n",
              "      border-bottom-color: var(--fill-color);\n",
              "    }\n",
              "    90% {\n",
              "      border-color: transparent;\n",
              "      border-bottom-color: var(--fill-color);\n",
              "    }\n",
              "  }\n",
              "</style>\n",
              "\n",
              "  <script>\n",
              "    async function quickchart(key) {\n",
              "      const quickchartButtonEl =\n",
              "        document.querySelector('#' + key + ' button');\n",
              "      quickchartButtonEl.disabled = true;  // To prevent multiple clicks.\n",
              "      quickchartButtonEl.classList.add('colab-df-spinner');\n",
              "      try {\n",
              "        const charts = await google.colab.kernel.invokeFunction(\n",
              "            'suggestCharts', [key], {});\n",
              "      } catch (error) {\n",
              "        console.error('Error during call to suggestCharts:', error);\n",
              "      }\n",
              "      quickchartButtonEl.classList.remove('colab-df-spinner');\n",
              "      quickchartButtonEl.classList.add('colab-df-quickchart-complete');\n",
              "    }\n",
              "    (() => {\n",
              "      let quickchartButtonEl =\n",
              "        document.querySelector('#df-f0fc2046-ce5c-475c-b611-f02b8b122e15 button');\n",
              "      quickchartButtonEl.style.display =\n",
              "        google.colab.kernel.accessAllowed ? 'block' : 'none';\n",
              "    })();\n",
              "  </script>\n",
              "</div>\n",
              "\n",
              "    </div>\n",
              "  </div>\n"
            ],
            "application/vnd.google.colaboratory.intrinsic+json": {
              "type": "dataframe",
              "variable_name": "df"
            }
          },
          "metadata": {},
          "execution_count": 5
        }
      ]
    },
    {
      "cell_type": "code",
      "source": [
        "df.info()"
      ],
      "metadata": {
        "execution": {
          "iopub.status.busy": "2024-07-10T15:54:04.554468Z",
          "iopub.execute_input": "2024-07-10T15:54:04.554967Z",
          "iopub.status.idle": "2024-07-10T15:54:04.585785Z",
          "shell.execute_reply.started": "2024-07-10T15:54:04.55492Z",
          "shell.execute_reply": "2024-07-10T15:54:04.584307Z"
        },
        "trusted": true,
        "id": "dvbJ-8zuebAT",
        "outputId": "d485133a-e752-4052-d6f2-c94a7c069ced",
        "colab": {
          "base_uri": "https://localhost:8080/"
        }
      },
      "execution_count": 6,
      "outputs": [
        {
          "output_type": "stream",
          "name": "stdout",
          "text": [
            "<class 'pandas.core.frame.DataFrame'>\n",
            "RangeIndex: 151799 entries, 0 to 151798\n",
            "Data columns (total 11 columns):\n",
            " #   Column          Non-Null Count   Dtype  \n",
            "---  ------          --------------   -----  \n",
            " 0   step            151799 non-null  int64  \n",
            " 1   type            151799 non-null  object \n",
            " 2   amount          151799 non-null  float64\n",
            " 3   nameOrig        151799 non-null  object \n",
            " 4   oldbalanceOrg   151799 non-null  float64\n",
            " 5   newbalanceOrig  151798 non-null  float64\n",
            " 6   nameDest        151798 non-null  object \n",
            " 7   oldbalanceDest  151798 non-null  float64\n",
            " 8   newbalanceDest  151798 non-null  float64\n",
            " 9   isFraud         151798 non-null  float64\n",
            " 10  isFlaggedFraud  151798 non-null  float64\n",
            "dtypes: float64(7), int64(1), object(3)\n",
            "memory usage: 12.7+ MB\n"
          ]
        }
      ]
    },
    {
      "cell_type": "markdown",
      "source": [
        "## Task 1: Data cleaning including missing values, outliers and multi-collinearity."
      ],
      "metadata": {
        "id": "5pZJeB3QebAT"
      }
    },
    {
      "cell_type": "markdown",
      "source": [
        "### Missing Values"
      ],
      "metadata": {
        "id": "8SOrwmQtebAT"
      }
    },
    {
      "cell_type": "code",
      "source": [
        "'''This function check Missing values'''\n",
        "def check_NullVal(df):\n",
        "    out= df.isnull().sum()\n",
        "    found= 0\n",
        "    for counter in out.index:\n",
        "        if out[counter]>0:\n",
        "            found+=1\n",
        "            print('column', counter, 'having', out[counter], 'null values')\n",
        "    if found==0 :\n",
        "        print('There is no null values in the Dataframe')"
      ],
      "metadata": {
        "execution": {
          "iopub.status.busy": "2024-07-10T15:54:31.863705Z",
          "iopub.execute_input": "2024-07-10T15:54:31.864152Z",
          "iopub.status.idle": "2024-07-10T15:54:31.872588Z",
          "shell.execute_reply.started": "2024-07-10T15:54:31.864117Z",
          "shell.execute_reply": "2024-07-10T15:54:31.871273Z"
        },
        "trusted": true,
        "id": "P0hyoNr_ebAU"
      },
      "execution_count": null,
      "outputs": []
    },
    {
      "cell_type": "code",
      "source": [
        "check_NullVal(df)"
      ],
      "metadata": {
        "execution": {
          "iopub.status.busy": "2024-07-10T15:54:32.444417Z",
          "iopub.execute_input": "2024-07-10T15:54:32.445459Z",
          "iopub.status.idle": "2024-07-10T15:54:34.629365Z",
          "shell.execute_reply.started": "2024-07-10T15:54:32.445414Z",
          "shell.execute_reply": "2024-07-10T15:54:34.627909Z"
        },
        "trusted": true,
        "id": "glAHiLZ8ebAU",
        "outputId": "3af939a1-b8a3-4ee4-a320-3031a692cf21"
      },
      "execution_count": null,
      "outputs": [
        {
          "name": "stdout",
          "text": "There is no null values in the Dataframe\n",
          "output_type": "stream"
        }
      ]
    },
    {
      "cell_type": "code",
      "source": [
        "# Impute missing values since 'oldbalanceDest' and 'newbalanceDest' have no imformation for the customers 'M'(Mercent)\n",
        "from sklearn.impute import SimpleImputer\n",
        "\n",
        "imputer = SimpleImputer(strategy='mean')\n",
        "df['oldbalanceDest'] = imputer.fit_transform(df[['oldbalanceDest']])\n",
        "df['newbalanceDest'] = imputer.fit_transform(df[['newbalanceDest']])"
      ],
      "metadata": {
        "execution": {
          "iopub.status.busy": "2024-07-10T15:54:43.022664Z",
          "iopub.execute_input": "2024-07-10T15:54:43.023303Z",
          "iopub.status.idle": "2024-07-10T15:54:43.993923Z",
          "shell.execute_reply.started": "2024-07-10T15:54:43.023255Z",
          "shell.execute_reply": "2024-07-10T15:54:43.991067Z"
        },
        "trusted": true,
        "id": "mb8pt3u9ebAV"
      },
      "execution_count": 7,
      "outputs": []
    },
    {
      "cell_type": "code",
      "source": [
        "num_df = df.select_dtypes(include=['int64', 'float64'])\n",
        "num_df"
      ],
      "metadata": {
        "execution": {
          "iopub.status.busy": "2024-07-10T15:54:43.998226Z",
          "iopub.execute_input": "2024-07-10T15:54:43.998641Z",
          "iopub.status.idle": "2024-07-10T15:54:44.552138Z",
          "shell.execute_reply.started": "2024-07-10T15:54:43.998608Z",
          "shell.execute_reply": "2024-07-10T15:54:44.550333Z"
        },
        "trusted": true,
        "id": "DpUCl26VebAV",
        "outputId": "9deb0505-feb1-488f-a2fd-a1b71100f3b1",
        "colab": {
          "base_uri": "https://localhost:8080/",
          "height": 423
        }
      },
      "execution_count": 8,
      "outputs": [
        {
          "output_type": "execute_result",
          "data": {
            "text/plain": [
              "        step    amount  oldbalanceOrg  newbalanceOrig  oldbalanceDest  \\\n",
              "0          1   9839.64      170136.00       160296.36        0.000000   \n",
              "1          1   1864.28       21249.00        19384.72        0.000000   \n",
              "2          1    181.00         181.00            0.00        0.000000   \n",
              "3          1    181.00         181.00            0.00    21182.000000   \n",
              "4          1  11668.14       41554.00        29885.86        0.000000   \n",
              "...      ...       ...            ...             ...             ...   \n",
              "151794    12  21278.77      728718.50       707439.73        0.000000   \n",
              "151795    12   7131.13      707439.73       700308.60        0.000000   \n",
              "151796    12   2870.84      700308.60       697437.75        0.000000   \n",
              "151797    12  17873.00      697437.75       679564.76        0.000000   \n",
              "151798    12   7513.74        6795.00             NaN   913764.098048   \n",
              "\n",
              "        newbalanceDest  isFraud  isFlaggedFraud  \n",
              "0         0.000000e+00      0.0             0.0  \n",
              "1         0.000000e+00      0.0             0.0  \n",
              "2         0.000000e+00      1.0             0.0  \n",
              "3         0.000000e+00      1.0             0.0  \n",
              "4         0.000000e+00      0.0             0.0  \n",
              "...                ...      ...             ...  \n",
              "151794    0.000000e+00      0.0             0.0  \n",
              "151795    0.000000e+00      0.0             0.0  \n",
              "151796    0.000000e+00      0.0             0.0  \n",
              "151797    0.000000e+00      0.0             0.0  \n",
              "151798    1.180076e+06      NaN             NaN  \n",
              "\n",
              "[151799 rows x 8 columns]"
            ],
            "text/html": [
              "\n",
              "  <div id=\"df-1c6e934e-5d93-44f3-a152-d5bd12fa4250\" class=\"colab-df-container\">\n",
              "    <div>\n",
              "<style scoped>\n",
              "    .dataframe tbody tr th:only-of-type {\n",
              "        vertical-align: middle;\n",
              "    }\n",
              "\n",
              "    .dataframe tbody tr th {\n",
              "        vertical-align: top;\n",
              "    }\n",
              "\n",
              "    .dataframe thead th {\n",
              "        text-align: right;\n",
              "    }\n",
              "</style>\n",
              "<table border=\"1\" class=\"dataframe\">\n",
              "  <thead>\n",
              "    <tr style=\"text-align: right;\">\n",
              "      <th></th>\n",
              "      <th>step</th>\n",
              "      <th>amount</th>\n",
              "      <th>oldbalanceOrg</th>\n",
              "      <th>newbalanceOrig</th>\n",
              "      <th>oldbalanceDest</th>\n",
              "      <th>newbalanceDest</th>\n",
              "      <th>isFraud</th>\n",
              "      <th>isFlaggedFraud</th>\n",
              "    </tr>\n",
              "  </thead>\n",
              "  <tbody>\n",
              "    <tr>\n",
              "      <th>0</th>\n",
              "      <td>1</td>\n",
              "      <td>9839.64</td>\n",
              "      <td>170136.00</td>\n",
              "      <td>160296.36</td>\n",
              "      <td>0.000000</td>\n",
              "      <td>0.000000e+00</td>\n",
              "      <td>0.0</td>\n",
              "      <td>0.0</td>\n",
              "    </tr>\n",
              "    <tr>\n",
              "      <th>1</th>\n",
              "      <td>1</td>\n",
              "      <td>1864.28</td>\n",
              "      <td>21249.00</td>\n",
              "      <td>19384.72</td>\n",
              "      <td>0.000000</td>\n",
              "      <td>0.000000e+00</td>\n",
              "      <td>0.0</td>\n",
              "      <td>0.0</td>\n",
              "    </tr>\n",
              "    <tr>\n",
              "      <th>2</th>\n",
              "      <td>1</td>\n",
              "      <td>181.00</td>\n",
              "      <td>181.00</td>\n",
              "      <td>0.00</td>\n",
              "      <td>0.000000</td>\n",
              "      <td>0.000000e+00</td>\n",
              "      <td>1.0</td>\n",
              "      <td>0.0</td>\n",
              "    </tr>\n",
              "    <tr>\n",
              "      <th>3</th>\n",
              "      <td>1</td>\n",
              "      <td>181.00</td>\n",
              "      <td>181.00</td>\n",
              "      <td>0.00</td>\n",
              "      <td>21182.000000</td>\n",
              "      <td>0.000000e+00</td>\n",
              "      <td>1.0</td>\n",
              "      <td>0.0</td>\n",
              "    </tr>\n",
              "    <tr>\n",
              "      <th>4</th>\n",
              "      <td>1</td>\n",
              "      <td>11668.14</td>\n",
              "      <td>41554.00</td>\n",
              "      <td>29885.86</td>\n",
              "      <td>0.000000</td>\n",
              "      <td>0.000000e+00</td>\n",
              "      <td>0.0</td>\n",
              "      <td>0.0</td>\n",
              "    </tr>\n",
              "    <tr>\n",
              "      <th>...</th>\n",
              "      <td>...</td>\n",
              "      <td>...</td>\n",
              "      <td>...</td>\n",
              "      <td>...</td>\n",
              "      <td>...</td>\n",
              "      <td>...</td>\n",
              "      <td>...</td>\n",
              "      <td>...</td>\n",
              "    </tr>\n",
              "    <tr>\n",
              "      <th>151794</th>\n",
              "      <td>12</td>\n",
              "      <td>21278.77</td>\n",
              "      <td>728718.50</td>\n",
              "      <td>707439.73</td>\n",
              "      <td>0.000000</td>\n",
              "      <td>0.000000e+00</td>\n",
              "      <td>0.0</td>\n",
              "      <td>0.0</td>\n",
              "    </tr>\n",
              "    <tr>\n",
              "      <th>151795</th>\n",
              "      <td>12</td>\n",
              "      <td>7131.13</td>\n",
              "      <td>707439.73</td>\n",
              "      <td>700308.60</td>\n",
              "      <td>0.000000</td>\n",
              "      <td>0.000000e+00</td>\n",
              "      <td>0.0</td>\n",
              "      <td>0.0</td>\n",
              "    </tr>\n",
              "    <tr>\n",
              "      <th>151796</th>\n",
              "      <td>12</td>\n",
              "      <td>2870.84</td>\n",
              "      <td>700308.60</td>\n",
              "      <td>697437.75</td>\n",
              "      <td>0.000000</td>\n",
              "      <td>0.000000e+00</td>\n",
              "      <td>0.0</td>\n",
              "      <td>0.0</td>\n",
              "    </tr>\n",
              "    <tr>\n",
              "      <th>151797</th>\n",
              "      <td>12</td>\n",
              "      <td>17873.00</td>\n",
              "      <td>697437.75</td>\n",
              "      <td>679564.76</td>\n",
              "      <td>0.000000</td>\n",
              "      <td>0.000000e+00</td>\n",
              "      <td>0.0</td>\n",
              "      <td>0.0</td>\n",
              "    </tr>\n",
              "    <tr>\n",
              "      <th>151798</th>\n",
              "      <td>12</td>\n",
              "      <td>7513.74</td>\n",
              "      <td>6795.00</td>\n",
              "      <td>NaN</td>\n",
              "      <td>913764.098048</td>\n",
              "      <td>1.180076e+06</td>\n",
              "      <td>NaN</td>\n",
              "      <td>NaN</td>\n",
              "    </tr>\n",
              "  </tbody>\n",
              "</table>\n",
              "<p>151799 rows × 8 columns</p>\n",
              "</div>\n",
              "    <div class=\"colab-df-buttons\">\n",
              "\n",
              "  <div class=\"colab-df-container\">\n",
              "    <button class=\"colab-df-convert\" onclick=\"convertToInteractive('df-1c6e934e-5d93-44f3-a152-d5bd12fa4250')\"\n",
              "            title=\"Convert this dataframe to an interactive table.\"\n",
              "            style=\"display:none;\">\n",
              "\n",
              "  <svg xmlns=\"http://www.w3.org/2000/svg\" height=\"24px\" viewBox=\"0 -960 960 960\">\n",
              "    <path d=\"M120-120v-720h720v720H120Zm60-500h600v-160H180v160Zm220 220h160v-160H400v160Zm0 220h160v-160H400v160ZM180-400h160v-160H180v160Zm440 0h160v-160H620v160ZM180-180h160v-160H180v160Zm440 0h160v-160H620v160Z\"/>\n",
              "  </svg>\n",
              "    </button>\n",
              "\n",
              "  <style>\n",
              "    .colab-df-container {\n",
              "      display:flex;\n",
              "      gap: 12px;\n",
              "    }\n",
              "\n",
              "    .colab-df-convert {\n",
              "      background-color: #E8F0FE;\n",
              "      border: none;\n",
              "      border-radius: 50%;\n",
              "      cursor: pointer;\n",
              "      display: none;\n",
              "      fill: #1967D2;\n",
              "      height: 32px;\n",
              "      padding: 0 0 0 0;\n",
              "      width: 32px;\n",
              "    }\n",
              "\n",
              "    .colab-df-convert:hover {\n",
              "      background-color: #E2EBFA;\n",
              "      box-shadow: 0px 1px 2px rgba(60, 64, 67, 0.3), 0px 1px 3px 1px rgba(60, 64, 67, 0.15);\n",
              "      fill: #174EA6;\n",
              "    }\n",
              "\n",
              "    .colab-df-buttons div {\n",
              "      margin-bottom: 4px;\n",
              "    }\n",
              "\n",
              "    [theme=dark] .colab-df-convert {\n",
              "      background-color: #3B4455;\n",
              "      fill: #D2E3FC;\n",
              "    }\n",
              "\n",
              "    [theme=dark] .colab-df-convert:hover {\n",
              "      background-color: #434B5C;\n",
              "      box-shadow: 0px 1px 3px 1px rgba(0, 0, 0, 0.15);\n",
              "      filter: drop-shadow(0px 1px 2px rgba(0, 0, 0, 0.3));\n",
              "      fill: #FFFFFF;\n",
              "    }\n",
              "  </style>\n",
              "\n",
              "    <script>\n",
              "      const buttonEl =\n",
              "        document.querySelector('#df-1c6e934e-5d93-44f3-a152-d5bd12fa4250 button.colab-df-convert');\n",
              "      buttonEl.style.display =\n",
              "        google.colab.kernel.accessAllowed ? 'block' : 'none';\n",
              "\n",
              "      async function convertToInteractive(key) {\n",
              "        const element = document.querySelector('#df-1c6e934e-5d93-44f3-a152-d5bd12fa4250');\n",
              "        const dataTable =\n",
              "          await google.colab.kernel.invokeFunction('convertToInteractive',\n",
              "                                                    [key], {});\n",
              "        if (!dataTable) return;\n",
              "\n",
              "        const docLinkHtml = 'Like what you see? Visit the ' +\n",
              "          '<a target=\"_blank\" href=https://colab.research.google.com/notebooks/data_table.ipynb>data table notebook</a>'\n",
              "          + ' to learn more about interactive tables.';\n",
              "        element.innerHTML = '';\n",
              "        dataTable['output_type'] = 'display_data';\n",
              "        await google.colab.output.renderOutput(dataTable, element);\n",
              "        const docLink = document.createElement('div');\n",
              "        docLink.innerHTML = docLinkHtml;\n",
              "        element.appendChild(docLink);\n",
              "      }\n",
              "    </script>\n",
              "  </div>\n",
              "\n",
              "\n",
              "<div id=\"df-9b78427c-31ca-4ee1-becf-6e93e6053a0b\">\n",
              "  <button class=\"colab-df-quickchart\" onclick=\"quickchart('df-9b78427c-31ca-4ee1-becf-6e93e6053a0b')\"\n",
              "            title=\"Suggest charts\"\n",
              "            style=\"display:none;\">\n",
              "\n",
              "<svg xmlns=\"http://www.w3.org/2000/svg\" height=\"24px\"viewBox=\"0 0 24 24\"\n",
              "     width=\"24px\">\n",
              "    <g>\n",
              "        <path d=\"M19 3H5c-1.1 0-2 .9-2 2v14c0 1.1.9 2 2 2h14c1.1 0 2-.9 2-2V5c0-1.1-.9-2-2-2zM9 17H7v-7h2v7zm4 0h-2V7h2v10zm4 0h-2v-4h2v4z\"/>\n",
              "    </g>\n",
              "</svg>\n",
              "  </button>\n",
              "\n",
              "<style>\n",
              "  .colab-df-quickchart {\n",
              "      --bg-color: #E8F0FE;\n",
              "      --fill-color: #1967D2;\n",
              "      --hover-bg-color: #E2EBFA;\n",
              "      --hover-fill-color: #174EA6;\n",
              "      --disabled-fill-color: #AAA;\n",
              "      --disabled-bg-color: #DDD;\n",
              "  }\n",
              "\n",
              "  [theme=dark] .colab-df-quickchart {\n",
              "      --bg-color: #3B4455;\n",
              "      --fill-color: #D2E3FC;\n",
              "      --hover-bg-color: #434B5C;\n",
              "      --hover-fill-color: #FFFFFF;\n",
              "      --disabled-bg-color: #3B4455;\n",
              "      --disabled-fill-color: #666;\n",
              "  }\n",
              "\n",
              "  .colab-df-quickchart {\n",
              "    background-color: var(--bg-color);\n",
              "    border: none;\n",
              "    border-radius: 50%;\n",
              "    cursor: pointer;\n",
              "    display: none;\n",
              "    fill: var(--fill-color);\n",
              "    height: 32px;\n",
              "    padding: 0;\n",
              "    width: 32px;\n",
              "  }\n",
              "\n",
              "  .colab-df-quickchart:hover {\n",
              "    background-color: var(--hover-bg-color);\n",
              "    box-shadow: 0 1px 2px rgba(60, 64, 67, 0.3), 0 1px 3px 1px rgba(60, 64, 67, 0.15);\n",
              "    fill: var(--button-hover-fill-color);\n",
              "  }\n",
              "\n",
              "  .colab-df-quickchart-complete:disabled,\n",
              "  .colab-df-quickchart-complete:disabled:hover {\n",
              "    background-color: var(--disabled-bg-color);\n",
              "    fill: var(--disabled-fill-color);\n",
              "    box-shadow: none;\n",
              "  }\n",
              "\n",
              "  .colab-df-spinner {\n",
              "    border: 2px solid var(--fill-color);\n",
              "    border-color: transparent;\n",
              "    border-bottom-color: var(--fill-color);\n",
              "    animation:\n",
              "      spin 1s steps(1) infinite;\n",
              "  }\n",
              "\n",
              "  @keyframes spin {\n",
              "    0% {\n",
              "      border-color: transparent;\n",
              "      border-bottom-color: var(--fill-color);\n",
              "      border-left-color: var(--fill-color);\n",
              "    }\n",
              "    20% {\n",
              "      border-color: transparent;\n",
              "      border-left-color: var(--fill-color);\n",
              "      border-top-color: var(--fill-color);\n",
              "    }\n",
              "    30% {\n",
              "      border-color: transparent;\n",
              "      border-left-color: var(--fill-color);\n",
              "      border-top-color: var(--fill-color);\n",
              "      border-right-color: var(--fill-color);\n",
              "    }\n",
              "    40% {\n",
              "      border-color: transparent;\n",
              "      border-right-color: var(--fill-color);\n",
              "      border-top-color: var(--fill-color);\n",
              "    }\n",
              "    60% {\n",
              "      border-color: transparent;\n",
              "      border-right-color: var(--fill-color);\n",
              "    }\n",
              "    80% {\n",
              "      border-color: transparent;\n",
              "      border-right-color: var(--fill-color);\n",
              "      border-bottom-color: var(--fill-color);\n",
              "    }\n",
              "    90% {\n",
              "      border-color: transparent;\n",
              "      border-bottom-color: var(--fill-color);\n",
              "    }\n",
              "  }\n",
              "</style>\n",
              "\n",
              "  <script>\n",
              "    async function quickchart(key) {\n",
              "      const quickchartButtonEl =\n",
              "        document.querySelector('#' + key + ' button');\n",
              "      quickchartButtonEl.disabled = true;  // To prevent multiple clicks.\n",
              "      quickchartButtonEl.classList.add('colab-df-spinner');\n",
              "      try {\n",
              "        const charts = await google.colab.kernel.invokeFunction(\n",
              "            'suggestCharts', [key], {});\n",
              "      } catch (error) {\n",
              "        console.error('Error during call to suggestCharts:', error);\n",
              "      }\n",
              "      quickchartButtonEl.classList.remove('colab-df-spinner');\n",
              "      quickchartButtonEl.classList.add('colab-df-quickchart-complete');\n",
              "    }\n",
              "    (() => {\n",
              "      let quickchartButtonEl =\n",
              "        document.querySelector('#df-9b78427c-31ca-4ee1-becf-6e93e6053a0b button');\n",
              "      quickchartButtonEl.style.display =\n",
              "        google.colab.kernel.accessAllowed ? 'block' : 'none';\n",
              "    })();\n",
              "  </script>\n",
              "</div>\n",
              "\n",
              "  <div id=\"id_96b74cb2-3b01-4507-a635-3a5416fde0d7\">\n",
              "    <style>\n",
              "      .colab-df-generate {\n",
              "        background-color: #E8F0FE;\n",
              "        border: none;\n",
              "        border-radius: 50%;\n",
              "        cursor: pointer;\n",
              "        display: none;\n",
              "        fill: #1967D2;\n",
              "        height: 32px;\n",
              "        padding: 0 0 0 0;\n",
              "        width: 32px;\n",
              "      }\n",
              "\n",
              "      .colab-df-generate:hover {\n",
              "        background-color: #E2EBFA;\n",
              "        box-shadow: 0px 1px 2px rgba(60, 64, 67, 0.3), 0px 1px 3px 1px rgba(60, 64, 67, 0.15);\n",
              "        fill: #174EA6;\n",
              "      }\n",
              "\n",
              "      [theme=dark] .colab-df-generate {\n",
              "        background-color: #3B4455;\n",
              "        fill: #D2E3FC;\n",
              "      }\n",
              "\n",
              "      [theme=dark] .colab-df-generate:hover {\n",
              "        background-color: #434B5C;\n",
              "        box-shadow: 0px 1px 3px 1px rgba(0, 0, 0, 0.15);\n",
              "        filter: drop-shadow(0px 1px 2px rgba(0, 0, 0, 0.3));\n",
              "        fill: #FFFFFF;\n",
              "      }\n",
              "    </style>\n",
              "    <button class=\"colab-df-generate\" onclick=\"generateWithVariable('num_df')\"\n",
              "            title=\"Generate code using this dataframe.\"\n",
              "            style=\"display:none;\">\n",
              "\n",
              "  <svg xmlns=\"http://www.w3.org/2000/svg\" height=\"24px\"viewBox=\"0 0 24 24\"\n",
              "       width=\"24px\">\n",
              "    <path d=\"M7,19H8.4L18.45,9,17,7.55,7,17.6ZM5,21V16.75L18.45,3.32a2,2,0,0,1,2.83,0l1.4,1.43a1.91,1.91,0,0,1,.58,1.4,1.91,1.91,0,0,1-.58,1.4L9.25,21ZM18.45,9,17,7.55Zm-12,3A5.31,5.31,0,0,0,4.9,8.1,5.31,5.31,0,0,0,1,6.5,5.31,5.31,0,0,0,4.9,4.9,5.31,5.31,0,0,0,6.5,1,5.31,5.31,0,0,0,8.1,4.9,5.31,5.31,0,0,0,12,6.5,5.46,5.46,0,0,0,6.5,12Z\"/>\n",
              "  </svg>\n",
              "    </button>\n",
              "    <script>\n",
              "      (() => {\n",
              "      const buttonEl =\n",
              "        document.querySelector('#id_96b74cb2-3b01-4507-a635-3a5416fde0d7 button.colab-df-generate');\n",
              "      buttonEl.style.display =\n",
              "        google.colab.kernel.accessAllowed ? 'block' : 'none';\n",
              "\n",
              "      buttonEl.onclick = () => {\n",
              "        google.colab.notebook.generateWithVariable('num_df');\n",
              "      }\n",
              "      })();\n",
              "    </script>\n",
              "  </div>\n",
              "\n",
              "    </div>\n",
              "  </div>\n"
            ],
            "application/vnd.google.colaboratory.intrinsic+json": {
              "type": "dataframe",
              "variable_name": "num_df"
            }
          },
          "metadata": {},
          "execution_count": 8
        }
      ]
    },
    {
      "cell_type": "markdown",
      "source": [
        "### Removing Outliers"
      ],
      "metadata": {
        "id": "tTrdGrI2ebAV"
      }
    },
    {
      "cell_type": "code",
      "source": [
        "# Removing Outliers through Z-score approach\n",
        "for col in num_df.columns:\n",
        "    z_scores = stats.zscore(df[col])\n",
        "    abs_z_scores = np.abs(z_scores)\n",
        "    outliers = (abs_z_scores > 3)  # Outliers have Z-score > 3 or < -3\n",
        "    df_clean = df[~outliers]"
      ],
      "metadata": {
        "execution": {
          "iopub.status.busy": "2024-07-10T15:54:50.218242Z",
          "iopub.execute_input": "2024-07-10T15:54:50.219262Z",
          "iopub.status.idle": "2024-07-10T15:54:58.29971Z",
          "shell.execute_reply.started": "2024-07-10T15:54:50.219219Z",
          "shell.execute_reply": "2024-07-10T15:54:58.298288Z"
        },
        "trusted": true,
        "id": "U8WNb0mjebAV"
      },
      "execution_count": 9,
      "outputs": []
    },
    {
      "cell_type": "code",
      "source": [
        "# Removing Outliers through IQR approach\n",
        "for col in num_df.columns:\n",
        "    Q1 = df_clean[col].quantile(0.25)\n",
        "    Q3 = df_clean[col].quantile(0.75)\n",
        "    IQR = Q3 - Q1\n",
        "\n",
        "    lower_bound = Q1 - 1.5 * IQR\n",
        "    upper_bound = Q3 + 1.5 * IQR\n",
        "\n",
        "    outliers = (df_clean[col] < lower_bound) | (df_clean[col] > upper_bound)\n",
        "    df_cleaned = df_clean[~outliers]\n"
      ],
      "metadata": {
        "execution": {
          "iopub.status.busy": "2024-07-10T15:54:58.301848Z",
          "iopub.execute_input": "2024-07-10T15:54:58.302236Z",
          "iopub.status.idle": "2024-07-10T15:55:05.884139Z",
          "shell.execute_reply.started": "2024-07-10T15:54:58.302204Z",
          "shell.execute_reply": "2024-07-10T15:55:05.882638Z"
        },
        "trusted": true,
        "id": "gwANh-ZsebAV"
      },
      "execution_count": 10,
      "outputs": []
    },
    {
      "cell_type": "code",
      "source": [
        "# Creating boxplot\n",
        "for col in num_df.columns:\n",
        "    plt.figure(figsize=(7, 5))\n",
        "    box = sns.boxplot(x=col, data=df_cleaned)\n",
        "#     sns.despine(offset=10, trim=True)\n",
        "    box.set_xlabel(col)\n",
        "    plt.show()"
      ],
      "metadata": {
        "execution": {
          "iopub.status.busy": "2024-07-10T15:55:05.88563Z",
          "iopub.execute_input": "2024-07-10T15:55:05.886039Z",
          "iopub.status.idle": "2024-07-10T15:55:19.589628Z",
          "shell.execute_reply.started": "2024-07-10T15:55:05.886007Z",
          "shell.execute_reply": "2024-07-10T15:55:19.587287Z"
        },
        "trusted": true,
        "id": "h9ztKEf4ebAV",
        "outputId": "200e3480-602f-43fa-c4d9-c9138eb00f46",
        "colab": {
          "base_uri": "https://localhost:8080/",
          "height": 1000
        }
      },
      "execution_count": 11,
      "outputs": [
        {
          "output_type": "display_data",
          "data": {
            "text/plain": [
              "<Figure size 700x500 with 1 Axes>"
            ],
            "image/png": "[encoded data removed]"
          },
          "metadata": {}
        },
        {
          "output_type": "display_data",
          "data": {
            "text/plain": [
              "<Figure size 700x500 with 1 Axes>"
            ],
            "image/png": "[encoded data removed]"
          },
          "metadata": {}
        },
        {
          "output_type": "display_data",
          "data": {
            "text/plain": [
              "<Figure size 700x500 with 1 Axes>"
            ],
            "image/png": "[encoded data removed]"
          },
          "metadata": {}
        },
        {
          "output_type": "display_data",
          "data": {
            "text/plain": [
              "<Figure size 700x500 with 1 Axes>"
            ],
            "image/png": "[encoded data removed]"
          },
          "metadata": {}
        },
        {
          "output_type": "display_data",
          "data": {
            "text/plain": [
              "<Figure size 700x500 with 1 Axes>"
            ],
            "image/png": "[encoded data removed]"
          },
          "metadata": {}
        },
        {
          "output_type": "display_data",
          "data": {
            "text/plain": [
              "<Figure size 700x500 with 1 Axes>"
            ],
            "image/png": "[encoded data removed]"
          },
          "metadata": {}
        },
        {
          "output_type": "display_data",
          "data": {
            "text/plain": [
              "<Figure size 700x500 with 1 Axes>"
            ],
            "image/png": "[encoded data removed]"
          },
          "metadata": {}
        },
        {
          "output_type": "display_data",
          "data": {
            "text/plain": [
              "<Figure size 700x500 with 1 Axes>"
            ],
            "image/png": "[encoded data removed]"
          },
          "metadata": {}
        }
      ]
    },
    {
      "cell_type": "code",
      "source": [
        "df_clean.head()"
      ],
      "metadata": {
        "execution": {
          "iopub.status.busy": "2024-07-10T15:55:19.592999Z",
          "iopub.execute_input": "2024-07-10T15:55:19.593436Z",
          "iopub.status.idle": "2024-07-10T15:55:19.620368Z",
          "shell.execute_reply.started": "2024-07-10T15:55:19.593402Z",
          "shell.execute_reply": "2024-07-10T15:55:19.618504Z"
        },
        "trusted": true,
        "id": "xeUy-HWxebAW",
        "outputId": "92bc02ab-7bc3-43d6-fcc1-355b2de053ba"
      },
      "execution_count": null,
      "outputs": [
        {
          "execution_count": 14,
          "output_type": "execute_result",
          "data": {
            "text/plain": "   step      type    amount     nameOrig  oldbalanceOrg  newbalanceOrig  \\\n0     1   PAYMENT   9839.64  C1231006815       170136.0       160296.36   \n1     1   PAYMENT   1864.28  C1666544295        21249.0        19384.72   \n2     1  TRANSFER    181.00  C1305486145          181.0            0.00   \n3     1  CASH_OUT    181.00   C840083671          181.0            0.00   \n4     1   PAYMENT  11668.14  C2048537720        41554.0        29885.86   \n\n      nameDest  oldbalanceDest  newbalanceDest  isFraud  isFlaggedFraud  \n0  M1979787155             0.0             0.0        0               0  \n1  M2044282225             0.0             0.0        0               0  \n2   C553264065             0.0             0.0        1               0  \n3    C38997010         21182.0             0.0        1               0  \n4  M1230701703             0.0             0.0        0               0  ",
            "text/html": "<div>\n<style scoped>\n    .dataframe tbody tr th:only-of-type {\n        vertical-align: middle;\n    }\n\n    .dataframe tbody tr th {\n        vertical-align: top;\n    }\n\n    .dataframe thead th {\n        text-align: right;\n    }\n</style>\n<table border=\"1\" class=\"dataframe\">\n  <thead>\n    <tr style=\"text-align: right;\">\n      <th></th>\n      <th>step</th>\n      <th>type</th>\n      <th>amount</th>\n      <th>nameOrig</th>\n      <th>oldbalanceOrg</th>\n      <th>newbalanceOrig</th>\n      <th>nameDest</th>\n      <th>oldbalanceDest</th>\n      <th>newbalanceDest</th>\n      <th>isFraud</th>\n      <th>isFlaggedFraud</th>\n    </tr>\n  </thead>\n  <tbody>\n    <tr>\n      <th>0</th>\n      <td>1</td>\n      <td>PAYMENT</td>\n      <td>9839.64</td>\n      <td>C1231006815</td>\n      <td>170136.0</td>\n      <td>160296.36</td>\n      <td>M1979787155</td>\n      <td>0.0</td>\n      <td>0.0</td>\n      <td>0</td>\n      <td>0</td>\n    </tr>\n    <tr>\n      <th>1</th>\n      <td>1</td>\n      <td>PAYMENT</td>\n      <td>1864.28</td>\n      <td>C1666544295</td>\n      <td>21249.0</td>\n      <td>19384.72</td>\n      <td>M2044282225</td>\n      <td>0.0</td>\n      <td>0.0</td>\n      <td>0</td>\n      <td>0</td>\n    </tr>\n    <tr>\n      <th>2</th>\n      <td>1</td>\n      <td>TRANSFER</td>\n      <td>181.00</td>\n      <td>C1305486145</td>\n      <td>181.0</td>\n      <td>0.00</td>\n      <td>C553264065</td>\n      <td>0.0</td>\n      <td>0.0</td>\n      <td>1</td>\n      <td>0</td>\n    </tr>\n    <tr>\n      <th>3</th>\n      <td>1</td>\n      <td>CASH_OUT</td>\n      <td>181.00</td>\n      <td>C840083671</td>\n      <td>181.0</td>\n      <td>0.00</td>\n      <td>C38997010</td>\n      <td>21182.0</td>\n      <td>0.0</td>\n      <td>1</td>\n      <td>0</td>\n    </tr>\n    <tr>\n      <th>4</th>\n      <td>1</td>\n      <td>PAYMENT</td>\n      <td>11668.14</td>\n      <td>C2048537720</td>\n      <td>41554.0</td>\n      <td>29885.86</td>\n      <td>M1230701703</td>\n      <td>0.0</td>\n      <td>0.0</td>\n      <td>0</td>\n      <td>0</td>\n    </tr>\n  </tbody>\n</table>\n</div>"
          },
          "metadata": {}
        }
      ]
    },
    {
      "cell_type": "code",
      "source": [
        "# Feature Transformation 'type'\n",
        "from sklearn.preprocessing import LabelEncoder\n",
        "\n",
        "lb=LabelEncoder()\n",
        "df_cleaned.loc[:, 'type'] = lb.fit_transform(df_cleaned['type'])"
      ],
      "metadata": {
        "execution": {
          "iopub.status.busy": "2024-07-10T15:55:19.623539Z",
          "iopub.execute_input": "2024-07-10T15:55:19.625503Z",
          "iopub.status.idle": "2024-07-10T15:55:21.85747Z",
          "shell.execute_reply.started": "2024-07-10T15:55:19.625421Z",
          "shell.execute_reply": "2024-07-10T15:55:21.855493Z"
        },
        "trusted": true,
        "id": "IVtmJPReebAW"
      },
      "execution_count": 12,
      "outputs": []
    },
    {
      "cell_type": "code",
      "source": [
        "# Drop irrevent features\n",
        "df_cleaned.drop(columns= ['nameOrig','nameDest','isFlaggedFraud'], inplace=True)"
      ],
      "metadata": {
        "execution": {
          "iopub.status.busy": "2024-07-10T15:55:21.859257Z",
          "iopub.execute_input": "2024-07-10T15:55:21.859695Z",
          "iopub.status.idle": "2024-07-10T15:55:22.216873Z",
          "shell.execute_reply.started": "2024-07-10T15:55:21.859661Z",
          "shell.execute_reply": "2024-07-10T15:55:22.21507Z"
        },
        "trusted": true,
        "id": "8uW5HzlmebAX"
      },
      "execution_count": 13,
      "outputs": []
    },
    {
      "cell_type": "code",
      "source": [
        "df_cleaned.head()"
      ],
      "metadata": {
        "execution": {
          "iopub.status.busy": "2024-07-10T15:55:26.116652Z",
          "iopub.execute_input": "2024-07-10T15:55:26.117582Z",
          "iopub.status.idle": "2024-07-10T15:55:26.137646Z",
          "shell.execute_reply.started": "2024-07-10T15:55:26.11754Z",
          "shell.execute_reply": "2024-07-10T15:55:26.136144Z"
        },
        "trusted": true,
        "id": "sPvyogRpebAX",
        "outputId": "22a3267f-7c53-4aff-d5b5-9844549b58ba"
      },
      "execution_count": null,
      "outputs": [
        {
          "execution_count": 17,
          "output_type": "execute_result",
          "data": {
            "text/plain": "   step type    amount  oldbalanceOrg  newbalanceOrig  oldbalanceDest  \\\n0     1    3   9839.64       170136.0       160296.36             0.0   \n1     1    3   1864.28        21249.0        19384.72             0.0   \n2     1    4    181.00          181.0            0.00             0.0   \n3     1    1    181.00          181.0            0.00         21182.0   \n4     1    3  11668.14        41554.0        29885.86             0.0   \n\n   newbalanceDest  isFraud  \n0             0.0        0  \n1             0.0        0  \n2             0.0        1  \n3             0.0        1  \n4             0.0        0  ",
            "text/html": "<div>\n<style scoped>\n    .dataframe tbody tr th:only-of-type {\n        vertical-align: middle;\n    }\n\n    .dataframe tbody tr th {\n        vertical-align: top;\n    }\n\n    .dataframe thead th {\n        text-align: right;\n    }\n</style>\n<table border=\"1\" class=\"dataframe\">\n  <thead>\n    <tr style=\"text-align: right;\">\n      <th></th>\n      <th>step</th>\n      <th>type</th>\n      <th>amount</th>\n      <th>oldbalanceOrg</th>\n      <th>newbalanceOrig</th>\n      <th>oldbalanceDest</th>\n      <th>newbalanceDest</th>\n      <th>isFraud</th>\n    </tr>\n  </thead>\n  <tbody>\n    <tr>\n      <th>0</th>\n      <td>1</td>\n      <td>3</td>\n      <td>9839.64</td>\n      <td>170136.0</td>\n      <td>160296.36</td>\n      <td>0.0</td>\n      <td>0.0</td>\n      <td>0</td>\n    </tr>\n    <tr>\n      <th>1</th>\n      <td>1</td>\n      <td>3</td>\n      <td>1864.28</td>\n      <td>21249.0</td>\n      <td>19384.72</td>\n      <td>0.0</td>\n      <td>0.0</td>\n      <td>0</td>\n    </tr>\n    <tr>\n      <th>2</th>\n      <td>1</td>\n      <td>4</td>\n      <td>181.00</td>\n      <td>181.0</td>\n      <td>0.00</td>\n      <td>0.0</td>\n      <td>0.0</td>\n      <td>1</td>\n    </tr>\n    <tr>\n      <th>3</th>\n      <td>1</td>\n      <td>1</td>\n      <td>181.00</td>\n      <td>181.0</td>\n      <td>0.00</td>\n      <td>21182.0</td>\n      <td>0.0</td>\n      <td>1</td>\n    </tr>\n    <tr>\n      <th>4</th>\n      <td>1</td>\n      <td>3</td>\n      <td>11668.14</td>\n      <td>41554.0</td>\n      <td>29885.86</td>\n      <td>0.0</td>\n      <td>0.0</td>\n      <td>0</td>\n    </tr>\n  </tbody>\n</table>\n</div>"
          },
          "metadata": {}
        }
      ]
    },
    {
      "cell_type": "markdown",
      "source": [
        "### Multi-collinearity"
      ],
      "metadata": {
        "id": "JoIKsIqyebAX"
      }
    },
    {
      "cell_type": "code",
      "source": [
        "correlation_matrix = df_cleaned.corr()\n",
        "sns.heatmap(correlation_matrix, annot=True, cmap='coolwarm')\n",
        "\n",
        "from statsmodels.stats.outliers_influence import variance_inflation_factor\n",
        "def calculate_vif(df):\n",
        "    vif = pd.DataFrame()\n",
        "    vif[\"Feature\"] = df.columns\n",
        "    vif[\"VIF\"] = [variance_inflation_factor(df.values, i) for i in range(df.shape[1])]\n",
        "    return vif\n",
        "\n",
        "# Select numerical columns for VIF calculation\n",
        "num_df1 = df_cleaned.select_dtypes(include=['int64','float64']).columns\n",
        "calculate_vif(df_cleaned[num_df1])"
      ],
      "metadata": {
        "execution": {
          "iopub.status.busy": "2024-07-10T15:55:28.343961Z",
          "iopub.execute_input": "2024-07-10T15:55:28.344616Z",
          "iopub.status.idle": "2024-07-10T15:56:06.786983Z",
          "shell.execute_reply.started": "2024-07-10T15:55:28.344577Z",
          "shell.execute_reply": "2024-07-10T15:56:06.785622Z"
        },
        "trusted": true,
        "id": "aWP3ND1tebAX",
        "outputId": "062a4557-f9df-4f28-ee68-5c94693c4774"
      },
      "execution_count": null,
      "outputs": [
        {
          "execution_count": 18,
          "output_type": "execute_result",
          "data": {
            "text/plain": "          Feature         VIF\n0            step    1.191098\n1          amount    4.079240\n2   oldbalanceOrg  544.039985\n3  newbalanceOrig  546.333133\n4  oldbalanceDest   72.909483\n5  newbalanceDest   84.602093\n6         isFraud    1.186078",
            "text/html": "<div>\n<style scoped>\n    .dataframe tbody tr th:only-of-type {\n        vertical-align: middle;\n    }\n\n    .dataframe tbody tr th {\n        vertical-align: top;\n    }\n\n    .dataframe thead th {\n        text-align: right;\n    }\n</style>\n<table border=\"1\" class=\"dataframe\">\n  <thead>\n    <tr style=\"text-align: right;\">\n      <th></th>\n      <th>Feature</th>\n      <th>VIF</th>\n    </tr>\n  </thead>\n  <tbody>\n    <tr>\n      <th>0</th>\n      <td>step</td>\n      <td>1.191098</td>\n    </tr>\n    <tr>\n      <th>1</th>\n      <td>amount</td>\n      <td>4.079240</td>\n    </tr>\n    <tr>\n      <th>2</th>\n      <td>oldbalanceOrg</td>\n      <td>544.039985</td>\n    </tr>\n    <tr>\n      <th>3</th>\n      <td>newbalanceOrig</td>\n      <td>546.333133</td>\n    </tr>\n    <tr>\n      <th>4</th>\n      <td>oldbalanceDest</td>\n      <td>72.909483</td>\n    </tr>\n    <tr>\n      <th>5</th>\n      <td>newbalanceDest</td>\n      <td>84.602093</td>\n    </tr>\n    <tr>\n      <th>6</th>\n      <td>isFraud</td>\n      <td>1.186078</td>\n    </tr>\n  </tbody>\n</table>\n</div>"
          },
          "metadata": {}
        },
        {
          "output_type": "display_data",
          "data": {
            "text/plain": "<Figure size 640x480 with 2 Axes>",
            "image/png": "[encoded data removed]"
          },
          "metadata": {}
        }
      ]
    },
    {
      "cell_type": "code",
      "source": [
        "# We can remove high correlational columns, but some the columns are crucial for the model evaluation\n",
        "# features_drop = vif[vif['VIF'] > 10]['Feature']\n",
        "# df_cleaned.drop(features_drop, axis=1, inplace=True)"
      ],
      "metadata": {
        "execution": {
          "iopub.status.busy": "2024-07-10T15:56:06.789406Z",
          "iopub.execute_input": "2024-07-10T15:56:06.789936Z",
          "iopub.status.idle": "2024-07-10T15:56:06.797157Z",
          "shell.execute_reply.started": "2024-07-10T15:56:06.789891Z",
          "shell.execute_reply": "2024-07-10T15:56:06.79485Z"
        },
        "trusted": true,
        "id": "Nf1BaGwLebAY"
      },
      "execution_count": null,
      "outputs": []
    },
    {
      "cell_type": "code",
      "source": [
        "df_cleaned_typeAmt = df.groupby('type', as_index=False)['amount'].sum().sort_values(by='amount', ascending=False)"
      ],
      "metadata": {
        "id": "u_exkRT3frcb"
      },
      "execution_count": 14,
      "outputs": []
    },
    {
      "cell_type": "code",
      "source": [
        "sns.set(style= 'darkgrid')\n",
        "plt.figure(figsize=(12,5))\n",
        "b= sns.catplot(x='type', y='amount', data=df_cleaned_typeAmt, kind= 'bar', palette= 'muted', aspect= 2, height= 5)\n",
        "\n",
        "plt.subplots_adjust(top=0.9)\n",
        "b.set_xlabels('Type of Transaction')\n",
        "b.set_ylabels('Transaction Amount')\n",
        "b.fig.suptitle('Transaction Type Wise Transaction Amount')\n",
        "plt.show()"
      ],
      "metadata": {
        "id": "pTh7qY0_fybA",
        "outputId": "bd5ec0ae-21f5-4393-cb86-db9435b1f2a3",
        "colab": {
          "base_uri": "https://localhost:8080/",
          "height": 633
        }
      },
      "execution_count": 15,
      "outputs": [
        {
          "output_type": "stream",
          "name": "stderr",
          "text": [
            "<ipython-input-15-adb31792d8b6>:3: FutureWarning: \n",
            "\n",
            "Passing `palette` without assigning `hue` is deprecated and will be removed in v0.14.0. Assign the `x` variable to `hue` and set `legend=False` for the same effect.\n",
            "\n",
            "  b= sns.catplot(x='type', y='amount', data=df_cleaned_typeAmt, kind= 'bar', palette= 'muted', aspect= 2, height= 5)\n"
          ]
        },
        {
          "output_type": "display_data",
          "data": {
            "text/plain": [
              "<Figure size 1200x500 with 0 Axes>"
            ]
          },
          "metadata": {}
        },
        {
          "output_type": "display_data",
          "data": {
            "text/plain": [
              "<Figure size 1000x500 with 1 Axes>"
            ],
            "image/png": "[encoded data removed]"
          },
          "metadata": {}
        }
      ]
    },
    {
      "cell_type": "code",
      "source": [
        "df_cleaned.head()"
      ],
      "metadata": {
        "trusted": true,
        "id": "yjxHgehFebAY"
      },
      "execution_count": null,
      "outputs": []
    },
    {
      "cell_type": "code",
      "source": [
        "# Separate independent and target variable\n",
        "X = df_cleaned.drop(columns='isFraud')\n",
        "y = df_cleaned['isFraud']\n",
        "\n",
        "# Split the dataset into training and testing sets\n",
        "from sklearn.model_selection import train_test_split\n",
        "X_train, X_test, y_train, y_test = train_test_split(X, y, test_size=0.3, random_state=42)\n"
      ],
      "metadata": {
        "execution": {
          "iopub.status.busy": "2024-07-10T12:28:26.952564Z",
          "iopub.execute_input": "2024-07-10T12:28:26.95307Z",
          "iopub.status.idle": "2024-07-10T12:28:29.226174Z",
          "shell.execute_reply.started": "2024-07-10T12:28:26.953035Z",
          "shell.execute_reply": "2024-07-10T12:28:29.225042Z"
        },
        "trusted": true,
        "id": "8T_aMKvCebAY"
      },
      "execution_count": null,
      "outputs": []
    },
    {
      "cell_type": "markdown",
      "source": [
        "## Task 2: Description of the Fraud Detection Model\n",
        "I used the Random Forest Classifier for Fraud Detection because:\n",
        "1.\tRandom Forest Classifier is an ensemble method for classification task, which predict through majority vote hence increase accuracy and decrease error rate.\n",
        "2.\tIt can handle numerical and categorical variables more efficiently which makes the model Robust( to Overfitting).\n"
      ],
      "metadata": {
        "id": "ruu8bAgKebAY"
      }
    },
    {
      "cell_type": "code",
      "source": [
        "# Random Forest Classifier\n",
        "from sklearn.ensemble import RandomForestClassifier\n",
        "\n",
        "# Initialising Random Forest Classifier\n",
        "rf_model = RandomForestClassifier(n_estimators=100, random_state=42)\n"
      ],
      "metadata": {
        "execution": {
          "iopub.status.busy": "2024-07-10T12:44:15.86627Z",
          "iopub.execute_input": "2024-07-10T12:44:15.867652Z",
          "iopub.status.idle": "2024-07-10T12:44:15.872777Z",
          "shell.execute_reply.started": "2024-07-10T12:44:15.867602Z",
          "shell.execute_reply": "2024-07-10T12:44:15.871578Z"
        },
        "trusted": true,
        "id": "_8u8jBN_ebAY"
      },
      "execution_count": null,
      "outputs": []
    },
    {
      "cell_type": "code",
      "source": [
        "# Fit the Model\n",
        "rf_model.fit(X_train, y_train)"
      ],
      "metadata": {
        "execution": {
          "iopub.status.busy": "2024-07-10T12:44:23.549006Z",
          "iopub.execute_input": "2024-07-10T12:44:23.550004Z",
          "iopub.status.idle": "2024-07-10T13:09:04.100504Z",
          "shell.execute_reply.started": "2024-07-10T12:44:23.549935Z",
          "shell.execute_reply": "2024-07-10T13:09:04.09914Z"
        },
        "trusted": true,
        "id": "81swA1X2ebAY",
        "outputId": "2594e95c-4c86-4f6d-a471-feafbbb20218"
      },
      "execution_count": null,
      "outputs": [
        {
          "execution_count": 83,
          "output_type": "execute_result",
          "data": {
            "text/plain": "RandomForestClassifier(random_state=42)",
            "text/html": "<style>#sk-container-id-1 {color: black;background-color: white;}#sk-container-id-1 pre{padding: 0;}#sk-container-id-1 div.sk-toggleable {background-color: white;}#sk-container-id-1 label.sk-toggleable__label {cursor: pointer;display: block;width: 100%;margin-bottom: 0;padding: 0.3em;box-sizing: border-box;text-align: center;}#sk-container-id-1 label.sk-toggleable__label-arrow:before {content: \"▸\";float: left;margin-right: 0.25em;color: #696969;}#sk-container-id-1 label.sk-toggleable__label-arrow:hover:before {color: black;}#sk-container-id-1 div.sk-estimator:hover label.sk-toggleable__label-arrow:before {color: black;}#sk-container-id-1 div.sk-toggleable__content {max-height: 0;max-width: 0;overflow: hidden;text-align: left;background-color: #f0f8ff;}#sk-container-id-1 div.sk-toggleable__content pre {margin: 0.2em;color: black;border-radius: 0.25em;background-color: #f0f8ff;}#sk-container-id-1 input.sk-toggleable__control:checked~div.sk-toggleable__content {max-height: 200px;max-width: 100%;overflow: auto;}#sk-container-id-1 input.sk-toggleable__control:checked~label.sk-toggleable__label-arrow:before {content: \"▾\";}#sk-container-id-1 div.sk-estimator input.sk-toggleable__control:checked~label.sk-toggleable__label {background-color: #d4ebff;}#sk-container-id-1 div.sk-label input.sk-toggleable__control:checked~label.sk-toggleable__label {background-color: #d4ebff;}#sk-container-id-1 input.sk-hidden--visually {border: 0;clip: rect(1px 1px 1px 1px);clip: rect(1px, 1px, 1px, 1px);height: 1px;margin: -1px;overflow: hidden;padding: 0;position: absolute;width: 1px;}#sk-container-id-1 div.sk-estimator {font-family: monospace;background-color: #f0f8ff;border: 1px dotted black;border-radius: 0.25em;box-sizing: border-box;margin-bottom: 0.5em;}#sk-container-id-1 div.sk-estimator:hover {background-color: #d4ebff;}#sk-container-id-1 div.sk-parallel-item::after {content: \"\";width: 100%;border-bottom: 1px solid gray;flex-grow: 1;}#sk-container-id-1 div.sk-label:hover label.sk-toggleable__label {background-color: #d4ebff;}#sk-container-id-1 div.sk-serial::before {content: \"\";position: absolute;border-left: 1px solid gray;box-sizing: border-box;top: 0;bottom: 0;left: 50%;z-index: 0;}#sk-container-id-1 div.sk-serial {display: flex;flex-direction: column;align-items: center;background-color: white;padding-right: 0.2em;padding-left: 0.2em;position: relative;}#sk-container-id-1 div.sk-item {position: relative;z-index: 1;}#sk-container-id-1 div.sk-parallel {display: flex;align-items: stretch;justify-content: center;background-color: white;position: relative;}#sk-container-id-1 div.sk-item::before, #sk-container-id-1 div.sk-parallel-item::before {content: \"\";position: absolute;border-left: 1px solid gray;box-sizing: border-box;top: 0;bottom: 0;left: 50%;z-index: -1;}#sk-container-id-1 div.sk-parallel-item {display: flex;flex-direction: column;z-index: 1;position: relative;background-color: white;}#sk-container-id-1 div.sk-parallel-item:first-child::after {align-self: flex-end;width: 50%;}#sk-container-id-1 div.sk-parallel-item:last-child::after {align-self: flex-start;width: 50%;}#sk-container-id-1 div.sk-parallel-item:only-child::after {width: 0;}#sk-container-id-1 div.sk-dashed-wrapped {border: 1px dashed gray;margin: 0 0.4em 0.5em 0.4em;box-sizing: border-box;padding-bottom: 0.4em;background-color: white;}#sk-container-id-1 div.sk-label label {font-family: monospace;font-weight: bold;display: inline-block;line-height: 1.2em;}#sk-container-id-1 div.sk-label-container {text-align: center;}#sk-container-id-1 div.sk-container {/* jupyter's `normalize.less` sets `[hidden] { display: none; }` but bootstrap.min.css set `[hidden] { display: none !important; }` so we also need the `!important` here to be able to override the default hidden behavior on the sphinx rendered scikit-learn.org. See: https://github.com/scikit-learn/scikit-learn/issues/21755 */display: inline-block !important;position: relative;}#sk-container-id-1 div.sk-text-repr-fallback {display: none;}</style><div id=\"sk-container-id-1\" class=\"sk-top-container\"><div class=\"sk-text-repr-fallback\"><pre>RandomForestClassifier(random_state=42)</pre><b>In a Jupyter environment, please rerun this cell to show the HTML representation or trust the notebook. <br />On GitHub, the HTML representation is unable to render, please try loading this page with nbviewer.org.</b></div><div class=\"sk-container\" hidden><div class=\"sk-item\"><div class=\"sk-estimator sk-toggleable\"><input class=\"sk-toggleable__control sk-hidden--visually\" id=\"sk-estimator-id-1\" type=\"checkbox\" checked><label for=\"sk-estimator-id-1\" class=\"sk-toggleable__label sk-toggleable__label-arrow\">RandomForestClassifier</label><div class=\"sk-toggleable__content\"><pre>RandomForestClassifier(random_state=42)</pre></div></div></div></div></div>"
          },
          "metadata": {}
        }
      ]
    },
    {
      "cell_type": "code",
      "source": [
        "# Predict on the test set\n",
        "y_pred = rf_model.predict(X_test)\n",
        "y_prob = rf_model.predict_proba(X_test)[:, 1]"
      ],
      "metadata": {
        "execution": {
          "iopub.status.busy": "2024-07-10T13:09:27.328363Z",
          "iopub.execute_input": "2024-07-10T13:09:27.328877Z",
          "iopub.status.idle": "2024-07-10T13:10:04.944185Z",
          "shell.execute_reply.started": "2024-07-10T13:09:27.328843Z",
          "shell.execute_reply": "2024-07-10T13:10:04.94298Z"
        },
        "trusted": true,
        "id": "9RSdUQa_ebAZ"
      },
      "execution_count": null,
      "outputs": []
    },
    {
      "cell_type": "code",
      "source": [
        "# Evaluating the model's performance\n",
        "from sklearn.metrics import classification_report, confusion_matrix\n",
        "\n",
        "print(\"Classification Report:\\n\", classification_report(y_test, y_pred))\n",
        "print(\"Confusion Matrix:\\n\", confusion_matrix(y_test, y_pred))"
      ],
      "metadata": {
        "execution": {
          "iopub.status.busy": "2024-07-10T13:10:56.409911Z",
          "iopub.execute_input": "2024-07-10T13:10:56.410358Z",
          "iopub.status.idle": "2024-07-10T13:11:00.05576Z",
          "shell.execute_reply.started": "2024-07-10T13:10:56.410325Z",
          "shell.execute_reply": "2024-07-10T13:11:00.054225Z"
        },
        "trusted": true,
        "id": "9-X7FB7WebAZ",
        "outputId": "47714178-a437-4de2-cdbe-d413df3823a6"
      },
      "execution_count": null,
      "outputs": [
        {
          "name": "stdout",
          "text": "Classification Report:\n               precision    recall  f1-score   support\n\n           0       1.00      1.00      1.00   1906362\n           1       0.99      0.79      0.88      2420\n\n    accuracy                           1.00   1908782\n   macro avg       0.99      0.89      0.94   1908782\nweighted avg       1.00      1.00      1.00   1908782\n\nConfusion Matrix:\n [[1906334      28]\n [    511    1909]]\n",
          "output_type": "stream"
        }
      ]
    },
    {
      "cell_type": "markdown",
      "source": [
        "## Task 3: Selecting the Variables for the model:\n",
        "\n",
        "For selecting the features, I used domain knowledge that can impact fraudulent behaviour such as ‘amount’: Transaction amount, ‘type’: Type of Transaction, ‘oldbalance and newbalance’: Balance before and after the Transaction.\n",
        "\n",
        "## Task 4: Demonstration of Model’s Performance and Tools:\n",
        " I used sklearn matrices such as Accuracy, Precision, Recall, F1-Score and Confusion Matrix to evaluate the model’s performance.\n",
        "I used the following tools which are required:\n",
        "1.\tPandas and Numpy: For Data Preprocessing and Data Manipulation\n",
        "2.\tMatplotlib and Seaborn: For Data Visualisation\n",
        "3.\tSklearn and Scipy: For feature Transformation, model’s training and testing, model’s evaluation etc.\n",
        "\n",
        "## Task 5: Key Factors that Predict Fraudulent Customers:\n",
        "1.\tTransaction Type: In the provided Dataset, the Types of Transactions are ‘CASH-IN’, ‘CASH-‘OUT’ , ’DEBIT’ , ‘PAYMENT’ and ‘TRANSFER’ among them ‘CASH-OUT’ and  ‘TRANSFER’ are more likely to Fraud.\n",
        "2.\tTransaction Amount: Amounts that are closest to the threshold set by organisation are more likely to Fraud.\n",
        "3.\tOld and New Balance: Immediate Drop or Immediate Hike in Transaction Balance is indicators of Fraudulent Activities.\n",
        "\n",
        "## Task 6: Do these factors make sense:\n",
        "Yes, These factors make sense,  \n",
        "1.\tSome Type of Transactions are red flags usually are those involved in high liquidating such as high amount withdrawal or transfer.\n",
        "2.\tLarge Transaction Amount is indeed a red flag because most fraudsters are maximise their gains in a single transaction by transferring or withdrawing in lump –sum, which is abnormal in comparing to the regular transaction amounts.\n",
        "3.\tUnusual balance record also is a red flag because customers involved or likely to be involved in fraud have unbalanced records of Transactions.\n",
        "\n",
        "## Task 7: kind of Prevention should be adopted while the company update its infrastructure:\n",
        "1.\tRegular Auditing\n",
        "2.\tReal-Time Monitoring\n",
        "\n",
        "## Task 8: Assuming these actions have been implemented, how would I determine if they work?\n",
        "Assuming these actions have been implemented, then I determine that it works effectively by following some approaches that are:\n",
        "1.\tA/B Testing: Implementing changes in a controlled manner and comparing the outcomes with a control group.\n",
        "2.\tCollect feedback from the monitoring system, customers, and fraud detection teams\n"
      ],
      "metadata": {
        "id": "SmSiG2jKebAZ"
      }
    },
    {
      "cell_type": "code",
      "source": [],
      "metadata": {
        "id": "nUeeZml6ebAb"
      },
      "execution_count": null,
      "outputs": []
    }
  ]
}